{
 "cells": [
  {
   "cell_type": "markdown",
   "metadata": {},
   "source": [
    "# Read Atlantic or Epac storm data from IBTRacS and plot histograms for TC categories\n",
    "\n",
    "\n",
    "## NCSU Tropical and Large Scale Dynamics\n",
    "\n",
    "Anantha Aiyyer\n"
   ]
  },
  {
   "cell_type": "code",
   "execution_count": 1,
   "metadata": {},
   "outputs": [
    {
     "name": "stdout",
     "output_type": "stream",
     "text": [
      "Ibtracs file found and opened\n"
     ]
    }
   ],
   "source": [
    "import pandas as pd\n",
    "import numpy as np\n",
    "import matplotlib.pyplot as plt\n",
    "import seaborn as sns\n",
    "import xarray as xr\n",
    "\n",
    "\n",
    "dataDir  = \"./\"\n",
    "filename = \"IBTrACS.since1980.v04r00.nc\"\n",
    "\n",
    "\n",
    "# select basin\n",
    "# for this code choose only NA or EP\n",
    "basinWant = str.encode(\"NA\")\n",
    "\n",
    "# select year range\n",
    "year1 = 1980\n",
    "year2 = 2020\n",
    "\n",
    "file = dataDir+filename\n",
    "\n",
    "try:\n",
    "    ds = xr.open_dataset(file)\n",
    "except:\n",
    "    print (\"file not found. quitting code\")\n",
    "    quit()\n",
    "    \n",
    "print (\"Ibtracs file found and opened\")\n",
    "\n"
   ]
  },
  {
   "cell_type": "code",
   "execution_count": 2,
   "metadata": {},
   "outputs": [],
   "source": [
    "# subset the storms based on the basin and years\n",
    "years = pd.to_datetime(ds.time[:,0].values).year\n",
    "inds = np.where( (ds.basin[:,0] == basinWant) & (years>year1) & (years<year2))[0]\n"
   ]
  },
  {
   "cell_type": "code",
   "execution_count": 3,
   "metadata": {},
   "outputs": [],
   "source": [
    "#The variable usa_sshs contains the storm category for the USA defined EP and NA basins \n",
    "sshs  = ds.usa_sshs[inds,:]\n",
    "max_sshs = sshs.max(dim='date_time',skipna=True)\n"
   ]
  },
  {
   "cell_type": "markdown",
   "metadata": {},
   "source": [
    "# Use pandas and seaborn for histogram"
   ]
  },
  {
   "cell_type": "code",
   "execution_count": 4,
   "metadata": {},
   "outputs": [
    {
     "data": {
      "image/png": "[encoded data removed]",
      "text/plain": [
       "<Figure size 432x288 with 1 Axes>"
      ]
     },
     "metadata": {
      "needs_background": "light"
     },
     "output_type": "display_data"
    }
   ],
   "source": [
    "# Now create a pandas dataframe for easy histogram plot\n",
    "# omit categories less than -2 \n",
    "df = pd.DataFrame({'SS':  max_sshs.where(max_sshs > -2, drop=True)})\n",
    "\n",
    "#print (df.SS.value_counts(dropna=False))\n",
    "#print(df.groupby(['SS'])['SS'].count())\n",
    "\n",
    "\n",
    "\n",
    "# use seaborn for the plot\n",
    "sns.histplot(data=df, x=\"SS\", discrete=True)\n",
    "plt.show()\n"
   ]
  },
  {
   "cell_type": "markdown",
   "metadata": {},
   "source": [
    "# Some additional info - for example, names of cat5 storms"
   ]
  },
  {
   "cell_type": "code",
   "execution_count": 5,
   "metadata": {},
   "outputs": [
    {
     "name": "stdout",
     "output_type": "stream",
     "text": [
      "1988 GILBERT\n",
      "1989 HUGO\n",
      "1992 ANDREW\n",
      "1998 MITCH\n",
      "2003 ISABEL\n",
      "2004 IVAN\n",
      "2005 EMILY\n",
      "2005 KATRINA\n",
      "2005 RITA\n",
      "2005 WILMA\n",
      "2007 DEAN\n",
      "2007 FELIX\n",
      "2016 MATTHEW\n",
      "2017 IRMA\n",
      "2017 MARIA\n",
      "2018 MICHAEL\n",
      "2019 DORIAN\n",
      "2019 LORENZO\n"
     ]
    }
   ],
   "source": [
    "StormNames  = ds.name[inds]\n",
    "StormDates  = ds.time[inds,0]\n",
    "\n",
    "\n",
    "# list the names and years of category 5 storms\n",
    "cat5N = StormNames.where(max_sshs == 5, drop=True).values\n",
    "cat5Y = pd.to_datetime(StormDates.where(max_sshs == 5, drop=True).values).year\n",
    "for y,n in zip(cat5Y,cat5N):\n",
    "    print(y,n.decode())\n"
   ]
  },
  {
   "cell_type": "code",
   "execution_count": null,
   "metadata": {},
   "outputs": [],
   "source": []
  },
  {
   "cell_type": "code",
   "execution_count": null,
   "metadata": {},
   "outputs": [],
   "source": []
  }
 ],
 "metadata": {
  "kernelspec": {
   "display_name": "Python 3",
   "language": "python",
   "name": "python3"
  },
  "language_info": {
   "codemirror_mode": {
    "name": "ipython",
    "version": 3
   },
   "file_extension": ".py",
   "mimetype": "text/x-python",
   "name": "python",
   "nbconvert_exporter": "python",
   "pygments_lexer": "ipython3",
   "version": "3.7.0"
  }
 },
 "nbformat": 4,
 "nbformat_minor": 4
}
