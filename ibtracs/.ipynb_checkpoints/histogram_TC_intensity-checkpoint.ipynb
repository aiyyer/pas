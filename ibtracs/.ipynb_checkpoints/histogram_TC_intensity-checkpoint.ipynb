{
 "cells": [
  {
   "cell_type": "markdown",
   "metadata": {},
   "source": [
    "# Read Atlantic or Epac storm data from IBTRacS and plot histograms for TC categories\n",
    "\n",
    "\n",
    "## NCSU Tropical and Large Scale Dynamics\n",
    "\n",
    "Anantha Aiyyer\n"
   ]
  },
  {
   "cell_type": "code",
   "execution_count": 7,
   "metadata": {},
   "outputs": [
    {
     "name": "stdout",
     "output_type": "stream",
     "text": [
      "Ibtracs file found and opened\n"
     ]
    }
   ],
   "source": [
    "import pandas as pd\n",
    "import numpy as np\n",
    "import matplotlib.pyplot as plt\n",
    "import seaborn as sns\n",
    "import xarray as xr\n",
    "\n",
    "\n",
    "dataDir  = \"./\"\n",
    "filename = \"IBTrACS.since1980.v04r00.nc\"\n",
    "\n",
    "\n",
    "# select basin\n",
    "# for this code choose only NA or EP\n",
    "basinWant = str.encode(\"EP\")\n",
    "\n",
    "# select year range\n",
    "year1 = 1995\n",
    "year2 = 2019\n",
    "\n",
    "file = dataDir+filename\n",
    "\n",
    "try:\n",
    "    ds = xr.open_dataset(file)\n",
    "except:\n",
    "    print (\"file not found. quitting code\")\n",
    "    quit()\n",
    "    \n",
    "print (\"Ibtracs file found and opened\")\n",
    "\n"
   ]
  },
  {
   "cell_type": "code",
   "execution_count": 2,
   "metadata": {},
   "outputs": [],
   "source": [
    "# subset the storms based on the basin and years\n",
    "years = pd.to_datetime(ds.time[:,0].values).year\n",
    "inds = np.where( (ds.basin[:,0] == basinWant) & (years>=year1) & (years<=year2))[0]\n"
   ]
  },
  {
   "cell_type": "code",
   "execution_count": 6,
   "metadata": {},
   "outputs": [
    {
     "name": "stdout",
     "output_type": "stream",
     "text": [
      "Int64Index([1995, 1995, 1995, 1995, 1995, 1995, 1995, 1995, 1995, 1995,\n",
      "            ...\n",
      "            2019, 2019, 2019, 2019, 2019, 2019, 2019, 2019, 2019, 2019],\n",
      "           dtype='int64', length=412)\n"
     ]
    }
   ],
   "source": [
    "#The variable usa_sshs contains the storm category for the USA defined EP and NA basins \n",
    "sshs     = ds.usa_sshs[inds,:]\n",
    "max_sshs = sshs.max(dim='date_time',skipna=True)\n",
    "stormYears = pd.to_datetime(ds.time[inds,0].values).year\n",
    "print(stormYears)"
   ]
  },
  {
   "cell_type": "markdown",
   "metadata": {},
   "source": [
    "# Use pandas and seaborn for histogram"
   ]
  },
  {
   "cell_type": "code",
   "execution_count": 4,
   "metadata": {},
   "outputs": [
    {
     "name": "stdout",
     "output_type": "stream",
     "text": [
      "SS\n",
      "-1.0     39\n",
      " 0.0    176\n",
      " 1.0     69\n",
      " 2.0     32\n",
      " 3.0     33\n",
      " 4.0     38\n",
      " 5.0     15\n",
      "Name: SS, dtype: int64\n"
     ]
    },
    {
     "data": {
      "image/png": "[encoded data removed]",
      "text/plain": [
       "<Figure size 432x288 with 1 Axes>"
      ]
     },
     "metadata": {
      "needs_background": "light"
     },
     "output_type": "display_data"
    }
   ],
   "source": [
    "# Now create a pandas dataframe for easy histogram plot\n",
    "# omit categories less than -2 \n",
    "df = pd.DataFrame({'SS':  max_sshs.where(max_sshs > -2, drop=True)})\n",
    "\n",
    "#print (df.SS.value_counts(dropna=False))\n",
    "print(df.groupby(['SS'])['SS'].count())\n",
    "\n",
    "\n",
    "\n",
    "# use seaborn for the plot\n",
    "sns.histplot(data=df, x=\"SS\", discrete=True)\n",
    "plt.show()\n"
   ]
  },
  {
   "cell_type": "markdown",
   "metadata": {},
   "source": [
    "# Some additional info - for example, names of cat5 storms"
   ]
  },
  {
   "cell_type": "code",
   "execution_count": 5,
   "metadata": {},
   "outputs": [
    {
     "name": "stdout",
     "output_type": "stream",
     "text": [
      "1995 FELIX\n",
      "1995 LUIS\n",
      "1995 OPAL\n",
      "1996 EDOUARD\n",
      "1996 HORTENSE\n",
      "1998 GEORGES\n",
      "1999 CINDY\n",
      "1999 BRET\n",
      "1999 FLOYD\n",
      "1999 GERT\n",
      "1999 LENNY\n",
      "2000 ISAAC\n",
      "2000 KEITH\n",
      "2001 IRIS\n",
      "2001 MICHELLE\n",
      "2002 LILI\n",
      "2003 FABIAN\n",
      "2004 CHARLEY\n",
      "2004 FRANCES\n",
      "2004 KARL\n",
      "2005 DENNIS\n",
      "2008 GUSTAV\n",
      "2008 IKE\n",
      "2008 OMAR\n",
      "2008 PALOMA\n",
      "2009 BILL\n",
      "2010 DANIELLE\n",
      "2010 EARL\n",
      "2010 IGOR\n",
      "2010 JULIA\n",
      "2011 KATIA\n",
      "2011 OPHELIA\n",
      "2014 GONZALO\n",
      "2015 JOAQUIN\n",
      "2016 NICOLE\n",
      "2017 HARVEY\n",
      "2017 JOSE\n",
      "2018 FLORENCE\n"
     ]
    }
   ],
   "source": [
    "StormNames  = ds.name[inds]\n",
    "StormDates  = ds.time[inds,0]\n",
    "\n",
    "\n",
    "# list the names and years of category 5 storms\n",
    "cat5N = StormNames.where(max_sshs == 4, drop=True).values\n",
    "cat5Y = pd.to_datetime(StormDates.where(max_sshs == 4, drop=True).values).year\n",
    "for y,n in zip(cat5Y,cat5N):\n",
    "    print(y,n.decode())\n"
   ]
  },
  {
   "cell_type": "code",
   "execution_count": null,
   "metadata": {},
   "outputs": [],
   "source": []
  },
  {
   "cell_type": "code",
   "execution_count": null,
   "metadata": {},
   "outputs": [],
   "source": []
  }
 ],
 "metadata": {
  "kernelspec": {
   "display_name": "Python 3",
   "language": "python",
   "name": "python3"
  },
  "language_info": {
   "codemirror_mode": {
    "name": "ipython",
    "version": 3
   },
   "file_extension": ".py",
   "mimetype": "text/x-python",
   "name": "python",
   "nbconvert_exporter": "python",
   "pygments_lexer": "ipython3",
   "version": "3.7.0"
  }
 },
 "nbformat": 4,
 "nbformat_minor": 4
}
