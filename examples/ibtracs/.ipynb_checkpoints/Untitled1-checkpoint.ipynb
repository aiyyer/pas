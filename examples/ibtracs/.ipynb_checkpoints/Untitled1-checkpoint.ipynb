{
 "cells": [
  {
   "cell_type": "markdown",
   "id": "8c332180-1743-49c9-a606-b1fba3348d08",
   "metadata": {},
   "source": [
    "# Reads IBTrACS data file and creates a timeseries of monthly aggregated TC genesis count within a lat-lon box specified by the user"
   ]
  },
  {
   "cell_type": "code",
   "execution_count": 1,
   "id": "6364133c-091e-4650-9fc4-d9c36de4ab1f",
   "metadata": {},
   "outputs": [],
   "source": [
    "'''\n",
    "Python For Atmospheric Science By Example\n",
    "A. Aiyyer\n",
    "North Carolina State University\n",
    "\n",
    "'''\n",
    "\n",
    "from matplotlib.dates import num2date,date2num\n",
    "import xarray as xr\n",
    "import numpy as np\n",
    "import datetime as dt\n",
    "import cftime as cf\n",
    "import cartopy.crs as ccrs\n",
    "import matplotlib.pyplot as plt\n",
    "import cartopy.feature as cfeature\n",
    "from   calendar import monthrange\n",
    "import pandas as pd\n"
   ]
  },
  {
   "cell_type": "code",
   "execution_count": 39,
   "id": "3088e29d-19d3-44c9-a377-8e8d2c66cc32",
   "metadata": {},
   "outputs": [
    {
     "name": "stdout",
     "output_type": "stream",
     "text": [
      "Ibtracs file found and opened\n"
     ]
    }
   ],
   "source": [
    "\n",
    "#--------------------------------------------------\n",
    "yearStart = 1980\n",
    "yearEnd   = 2019\n",
    "\n",
    "monthStart = 10\n",
    "monthEnd   = 10\n",
    "#--------------------------------------------------\n",
    "\n",
    "dataDir  = \"~/data100/data/ibtracs/\"\n",
    "filename = \"IBTrACS.since1980.v04r00.nc\"\n",
    "\n",
    "file = dataDir+filename\n",
    "\n",
    "try:\n",
    "    ds = xr.open_dataset(file)\n",
    "except:\n",
    "    print (\"file not found. quitting code\")\n",
    "    quit()\n",
    "    \n",
    "print (\"Ibtracs file found and opened\")\n",
    "\n",
    "\n",
    "\n",
    "latS =  0.\n",
    "latN = 20.\n",
    "lonW = -90.\n",
    "lonE = -20.\n"
   ]
  },
  {
   "cell_type": "code",
   "execution_count": 100,
   "id": "534fa6b4-fa5b-4bd4-b278-894546649a65",
   "metadata": {},
   "outputs": [
    {
     "name": "stdout",
     "output_type": "stream",
     "text": [
      "<xarray.DataArray 'time' ()>\n",
      "array(329)\n"
     ]
    }
   ],
   "source": [
    "# NOW just extract the first track point info for each TC track\n",
    "lats = ds.lat[:,0]\n",
    "lons = ds.lon[:,0]\n",
    "time = ds.time[:,0]\n",
    "\n",
    "#print(time)\n",
    "\n",
    "#inds = np.where((lats >latS) & (lats < latN))[0] \n",
    "#print(lats[inds].values)\n",
    "\n",
    "tsub = time.where((time.lon>lonW) & (time.lon<lonE) & (time.lat>latS) & (time.lat<latN)   , drop=True)\n",
    "tmon = tsub.groupby(\"time.year\").count()\n",
    "print(tmon.sum())"
   ]
  },
  {
   "cell_type": "code",
   "execution_count": 106,
   "id": "b057ecad-988b-4856-aa8f-f8b0844c9115",
   "metadata": {},
   "outputs": [
    {
     "name": "stdout",
     "output_type": "stream",
     "text": [
      "<xarray.DataArray 'time' (year_month: 90)>\n",
      "array([ 4,  6,  2,  2,  7,  1,  2,  2,  3,  2,  2,  4,  1,  1,  2,  2,  6,\n",
      "        3,  7,  7,  3,  1,  6,  4,  2,  3,  1,  1,  4,  1,  1,  5,  8,  7,\n",
      "        7,  5,  1,  2,  3,  4,  1,  7,  2,  7,  3,  6,  1,  3,  6,  6,  1,\n",
      "        5,  4,  7,  8,  4,  2,  1,  2,  4,  1,  2,  5,  7,  2,  5,  5, 10,\n",
      "        5,  3,  6,  4,  3,  1,  2,  2,  2,  3,  2,  4,  7,  6,  1,  1,  5,\n",
      "        1,  4,  4, 10,  1])\n",
      "Coordinates:\n",
      "  * year_month          (year_month) MultiIndex\n",
      "  - year_month_level_0  (year_month) int64 1980 1980 1981 ... 2020 2020 2021\n",
      "  - year_month_level_1  (year_month) object 'JJA' 'SON' 'MAM' ... 'SON' 'JJA'\n"
     ]
    }
   ],
   "source": [
    "import pandas as pd\n",
    "\n",
    "year_month_idx= pd.MultiIndex.from_arrays([tsub['time.year'].values,  tsub['time.season'].values])\n",
    "tsub.coords['year_month'] = ('storm', year_month_idx)\n",
    "\n",
    "tsub_monthly = tsub.groupby('year_month').count()\n",
    "\n",
    "print(tsub_monthly)"
   ]
  },
  {
   "cell_type": "code",
   "execution_count": null,
   "id": "52fc8828-649a-489b-88f7-29904b094aed",
   "metadata": {},
   "outputs": [],
   "source": []
  }
 ],
 "metadata": {
  "kernelspec": {
   "display_name": "Python 3 (ipykernel)",
   "language": "python",
   "name": "python3"
  },
  "language_info": {
   "codemirror_mode": {
    "name": "ipython",
    "version": 3
   },
   "file_extension": ".py",
   "mimetype": "text/x-python",
   "name": "python",
   "nbconvert_exporter": "python",
   "pygments_lexer": "ipython3",
   "version": "3.9.7"
  }
 },
 "nbformat": 4,
 "nbformat_minor": 5
}
