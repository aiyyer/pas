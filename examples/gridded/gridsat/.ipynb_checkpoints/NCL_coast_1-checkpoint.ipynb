{
 "cells": [
  {
   "cell_type": "code",
   "execution_count": 1,
   "metadata": {
    "collapsed": false,
    "jupyter": {
     "outputs_hidden": false
    }
   },
   "outputs": [],
   "source": [
    "%matplotlib inline"
   ]
  },
  {
   "cell_type": "markdown",
   "metadata": {},
   "source": [
    "\n",
    "# NCL_coast_1.py\n",
    "This script illustrates the following concepts:\n",
    "   - Drawing color-filled contours over a cylindrical equidistant map\n",
    "   - Specifying and drawing three different resolutions for map outlines\n",
    "   - Zooming in on a particular area on the map\n",
    "   - Moving title and colorbar locations\n",
    "   - Following best practices when choosing a colormap.\n",
    "     More information on colormap best practices can be found `here <https://geocat-examples.readthedocs.io/en/latest/gallery/Colors/CB_Temperature.html#sphx-glr-gallery-colors-cb-temperature-py>`_.\n",
    "\n",
    "See following URLs to see the reproduced NCL plot & script:\n",
    "    - Original NCL script: https://www.ncl.ucar.edu/Applications/Scripts/coast_1.ncl\n",
    "    - Original NCL plot: https://www.ncl.ucar.edu/Applications/Images/coast_1_1_lg.png https://www.ncl.ucar.edu/Applications/Images/coast_1_2_lg.png https://www.ncl.ucar.edu/Applications/Images/coast_1_3_lg.png\n"
   ]
  },
  {
   "cell_type": "markdown",
   "metadata": {},
   "source": [
    "Import packages\n",
    "\n"
   ]
  },
  {
   "cell_type": "code",
   "execution_count": 3,
   "metadata": {
    "collapsed": false,
    "jupyter": {
     "outputs_hidden": false
    }
   },
   "outputs": [],
   "source": [
    "import numpy as np\n",
    "import xarray as xr\n",
    "import cartopy.crs as ccrs\n",
    "import cartopy.feature as cfeature\n",
    "from cartopy.mpl.gridliner import LONGITUDE_FORMATTER, LATITUDE_FORMATTER\n",
    "from cartopy.mpl.ticker import LongitudeFormatter, LatitudeFormatter\n",
    "\n",
    "#\n",
    "\n",
    "import matplotlib.pyplot as plt\n",
    "\n",
    "import geocat.datafiles as gdf\n",
    "from geocat.viz import util as gvutil"
   ]
  },
  {
   "cell_type": "markdown",
   "metadata": {},
   "source": [
    "Read in data:\n",
    "\n"
   ]
  },
  {
   "cell_type": "code",
   "execution_count": null,
   "metadata": {
    "collapsed": false,
    "jupyter": {
     "outputs_hidden": false
    }
   },
   "outputs": [],
   "source": [
    "# Open the netCDF data file using xarray\n",
    "ds = xr.open_dataset(gdf.get(\"netcdf_files/tpom000.partial.nc\"))\n",
    "\n",
    "# Extract a slice of the data\n",
    "t = ds.t"
   ]
  },
  {
   "cell_type": "markdown",
   "metadata": {},
   "source": [
    "Plot:\n",
    "\n"
   ]
  },
  {
   "cell_type": "code",
   "execution_count": null,
   "metadata": {
    "collapsed": false,
    "jupyter": {
     "outputs_hidden": false
    }
   },
   "outputs": [],
   "source": [
    "def Plot(res, title):\n",
    "\n",
    "    fig = plt.figure(figsize=(8, 6))\n",
    "\n",
    "    # Generate axes, using Cartopy, drawing coastlines, and adding features\n",
    "    fig.tight_layout(pad=3)\n",
    "    projection = ccrs.PlateCarree()\n",
    "    ax1 = plt.axes(projection=projection)\n",
    "    ax1.coastlines(resolution=res, linewidths=0.5)\n",
    "    ax1.add_feature(cfeature.LAND.with_scale(res), facecolor=\"wheat\")\n",
    "\n",
    "    # Contourf-plot data\n",
    "    temp = t.plot.contourf(ax=ax1,\n",
    "                           transform=projection,\n",
    "                           levels=25,\n",
    "                           vmin=14.9,\n",
    "                           vmax=17.3,\n",
    "                           cmap='magma',\n",
    "                           add_colorbar=False)\n",
    "\n",
    "    # Add color bar\n",
    "    cbar_ticks = np.arange(15, 17.3, 0.3)\n",
    "    cbar = plt.colorbar(temp,\n",
    "                        orientation='horizontal',\n",
    "                        shrink=0.8,\n",
    "                        pad=0.073,\n",
    "                        extendrect=True,\n",
    "                        ticks=cbar_ticks)\n",
    "\n",
    "    cbar.ax.tick_params(labelsize=10)\n",
    "\n",
    "    # Use geocat.viz.util convenience function to set axes limit and tick values\n",
    "    gvutil.set_axes_limits_and_ticks(ax1,\n",
    "                                     xlim=(-8, -3),\n",
    "                                     ylim=(35, 37),\n",
    "                                     xticks=np.linspace(-3, -8, 6),\n",
    "                                     yticks=np.linspace(35, 37, 3))\n",
    "\n",
    "    # Use geocat.viz.util convenience function to add major tick lines\n",
    "    gvutil.add_major_minor_ticks(ax1, y_minor_per_major=1, labelsize=12)\n",
    "\n",
    "    # Use geocat.viz.util convenience function to add lat and lon tick labels\n",
    "    gvutil.add_lat_lon_ticklabels(ax1)\n",
    "\n",
    "    # Remove degree symbol from tick label\n",
    "    ax1.yaxis.set_major_formatter(LatitudeFormatter(degree_symbol=''))\n",
    "    ax1.xaxis.set_major_formatter(LongitudeFormatter(degree_symbol=''))\n",
    "\n",
    "    # Use geocat.viz.util convenience function to set titles and labels\n",
    "    gvutil.set_titles_and_labels(ax1,\n",
    "                                 righttitle=\"Deg C\",\n",
    "                                 righttitlefontsize=15,\n",
    "                                 lefttitle=\"Temperature\",\n",
    "                                 lefttitlefontsize=15,\n",
    "                                 xlabel=\"\",\n",
    "                                 ylabel=\"\")\n",
    "\n",
    "    plt.suptitle(\"Strait of Gibraltar\", x=.5, y=.83, fontsize=18)\n",
    "    plt.title(title, x=.5, y=1.07, fontsize=15)\n",
    "    plt.tight_layout()\n",
    "    plt.show()\n",
    "\n",
    "\n",
    "# Plot maps\n",
    "Plot('110m', \"Low Res Coastline\")\n",
    "Plot('50m', \"Medium Res Coastline\")\n",
    "Plot('10m', \"High Res Coastline (default)\")"
   ]
  }
 ],
 "metadata": {
  "kernelspec": {
   "display_name": "Python 3 (ipykernel)",
   "language": "python",
   "name": "python3"
  },
  "language_info": {
   "codemirror_mode": {
    "name": "ipython",
    "version": 3
   },
   "file_extension": ".py",
   "mimetype": "text/x-python",
   "name": "python",
   "nbconvert_exporter": "python",
   "pygments_lexer": "ipython3",
   "version": "3.7.6"
  }
 },
 "nbformat": 4,
 "nbformat_minor": 4
}
