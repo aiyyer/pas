{
 "cells": [
  {
   "cell_type": "markdown",
   "metadata": {},
   "source": [
    "Create a list of dates using pandas\n",
    "====================================\n",
    "\n",
    "This example illustrates how to create a continuous list of dates. One possible application of such a list is to download data that are organized by date. The example below shows how one can get the daily Sea Surface Temperature (SST) data from the [NOAA OISST](https://www.ncdc.noaa.gov/oisst) database. \n",
    "\n",
    "The SST data are organized as follows:\n",
    "\n",
    "base_url/YYYYMM/oisst-avhrr-v02r01.YYYYMMDD.nc\n",
    "\n",
    "The base URL is:\n",
    "\n",
    "https://www.ncei.noaa.gov/data/sea-surface-temperature-optimum-interpolation/v2.1/access/avhrr/\n",
    "\n",
    "In the example below, we will download a week's worth of daily SST data\n",
    "\n",
    "we will use the Pandas function\n",
    "\n",
    "```python\n",
    "date_series = pandas.date_range()\n",
    "```\n",
    "\n"
   ]
  },
  {
   "cell_type": "code",
   "execution_count": 4,
   "metadata": {},
   "outputs": [
    {
     "name": "stdout",
     "output_type": "stream",
     "text": [
      "First date in list =  2000-06-01 00:00:00\n",
      "Last  date in list =  2000-08-01 00:00:00\n",
      "Number of days =  62\n"
     ]
    }
   ],
   "source": [
    "'''\n",
    "NCSU Tropical Dynamics\n",
    "Python by example\n",
    "Program: list of dates\n",
    "'''\n",
    "\n",
    "from datetime import date\n",
    "import pandas as pd\n",
    "import os\n",
    "\n",
    "\n",
    "year = 2000\n",
    "\n",
    "# define the start and end dates in datetime format\n",
    "sdate = date(year,6,1)\n",
    "edate = date(year,8,1)\n",
    "\n",
    "# the key statement for creating a list of dates\n",
    "date_series = pd.date_range(sdate,edate, freq ='D')\n",
    "print (\"First date in list = \", date_series[0])\n",
    "print (\"Last  date in list = \", date_series[-1])\n",
    "\n",
    "print (\"Number of days = \", date_series.size)\n",
    "\n",
    "\n",
    "\n",
    "# optional if you wish to download the oisst data\n",
    "#-----oisst data location\n",
    "#base_url       = 'https://www.ncei.noaa.gov/data/'\n",
    "#data           = 'sea-surface-temperature-optimum-interpolation/'\n",
    "#version        = 'v2.1/access/avhrr/'\n",
    "#fileN          = 'oisst-avhrr-v02r01.'\n",
    "#\n",
    "# \n",
    "#for i in range(ndays):\n",
    "#        YYYYMM   = date_series[i].strftime('%Y%m') \n",
    "#        YYYYMMDD = date_series[i].strftime('%Y%m%d') \n",
    "#        file_url = base_url+data+version+YYYYMM+\"/\"+fileN+YYYYMMDD + '.nc'\n",
    "#        \n",
    "#        #this is the shell command to execute\n",
    "#        stri = 'wget '+file_url\n",
    "#        print (stri)\n",
    "#        os.system(stri)\n",
    "#\n",
    "# ----completed-------------\n",
    "        \n",
    "        \n"
   ]
  },
  {
   "cell_type": "code",
   "execution_count": null,
   "metadata": {},
   "outputs": [],
   "source": [
    "\n",
    "\n"
   ]
  },
  {
   "cell_type": "code",
   "execution_count": null,
   "metadata": {},
   "outputs": [],
   "source": []
  }
 ],
 "metadata": {
  "kernelspec": {
   "display_name": "Python 3",
   "language": "python",
   "name": "python3"
  },
  "language_info": {
   "codemirror_mode": {
    "name": "ipython",
    "version": 3
   },
   "file_extension": ".py",
   "mimetype": "text/x-python",
   "name": "python",
   "nbconvert_exporter": "python",
   "pygments_lexer": "ipython3",
   "version": "3.7.0"
  }
 },
 "nbformat": 4,
 "nbformat_minor": 4
}
