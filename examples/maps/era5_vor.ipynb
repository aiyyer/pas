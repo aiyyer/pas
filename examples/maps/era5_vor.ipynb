{
 "cells": [
  {
   "cell_type": "code",
   "execution_count": null,
   "id": "384ffe4e-52ab-4467-b04b-0486f9463682",
   "metadata": {},
   "outputs": [],
   "source": [
    "import xarray as xr\n",
    "import pandas as pd\n",
    "import numpy as np\n",
    "from datetime import datetime as dt\n",
    "from metpy.units import units\n",
    "from metpy import calc as mpcalc\n",
    "import cartopy.crs as ccrs\n",
    "import cartopy.feature as cfeature\n",
    "import matplotlib.pyplot as plt\n",
    "import requests\n",
    "from pathlib import Path\n",
    "import datetime\n",
    "\n",
    "\n",
    "import geocat.viz as gv\n",
    "from cartopy.mpl.gridliner import LONGITUDE_FORMATTER, LATITUDE_FORMATTER\n",
    "from cartopy.mpl.ticker import LongitudeFormatter, LatitudeFormatter\n",
    "import matplotlib.animation as animation\n"
   ]
  },
  {
   "cell_type": "code",
   "execution_count": null,
   "id": "7999c454-725a-43ad-a395-6f8725d2aed7",
   "metadata": {},
   "outputs": [],
   "source": [
    "HOME = str(Path.home())\n",
    "credFile = open(HOME+'/.rdarc','r')\n",
    "userId, pw = credFile.read().split()"
   ]
  },
  {
   "cell_type": "code",
   "execution_count": null,
   "id": "4e926522-aadb-4417-a19c-f70c29f304d0",
   "metadata": {},
   "outputs": [],
   "source": [
    "year =  2018\n",
    "month = 9\n",
    "day = 1\n",
    "hour = 0\n",
    "ntimes = 4\n",
    "\n",
    "\n",
    "min_lon = -140. + 360.\n",
    "max_lon =  -5.  + 360.\n",
    "delta_lon = 20.\n",
    "min_lat = 0.\n",
    "max_lat =  30.\n",
    "\n",
    "# encode the date \n",
    "date = datetime.datetime(year,month,day,hour)"
   ]
  },
  {
   "cell_type": "code",
   "execution_count": null,
   "id": "ad271f70-0c60-42a6-b469-45d8ce5a4c39",
   "metadata": {},
   "outputs": [],
   "source": [
    "era5_base ='https://rda.ucar.edu/thredds/dodsC/files/g/ds633.0/e5.oper.an.pl/'"
   ]
  },
  {
   "cell_type": "code",
   "execution_count": null,
   "id": "1b00028e-f208-4f9b-8ca5-7f544990c809",
   "metadata": {},
   "outputs": [],
   "source": []
  },
  {
   "cell_type": "code",
   "execution_count": null,
   "id": "eda96141-8417-497d-b18c-180bcd4c20e2",
   "metadata": {},
   "outputs": [],
   "source": [
    "date.strftime('%Y%m')"
   ]
  },
  {
   "cell_type": "code",
   "execution_count": null,
   "id": "15e1e28f-6fb8-482e-bbb1-1f734c1ea506",
   "metadata": {},
   "outputs": [],
   "source": [
    "varId  = '138'\n",
    "varNam = 'vo'"
   ]
  },
  {
   "cell_type": "code",
   "execution_count": null,
   "id": "5c007ead-fdc3-4ab2-a87d-a69d9e579d1b",
   "metadata": {},
   "outputs": [],
   "source": []
  },
  {
   "cell_type": "code",
   "execution_count": null,
   "id": "4437ae4e-2c7c-4610-8eea-39b37bc7edcf",
   "metadata": {},
   "outputs": [],
   "source": [
    "session = requests.Session()\n",
    "session.auth = (userId, pw)\n",
    "\n",
    "            "
   ]
  },
  {
   "cell_type": "code",
   "execution_count": null,
   "id": "2aeeccfc-3149-4142-aebc-62b21c6b4c17",
   "metadata": {},
   "outputs": [],
   "source": [
    "def animate(i,dateIn,min_lon,max_lon,min_lat,max_lat,Cmin,Cmax):\n",
    "    central_lon = .5*(min_lon + max_lon)\n",
    "    delta_lon = 20.\n",
    "    date = dateIn + pd.Timedelta(days=i*.25)\n",
    "    \n",
    "    fnam = date.strftime('%Y%m') + '/e5.oper.an.pl.128_' + varId + '_' + varNam + \\\n",
    "    '.ll025sc.' + date.strftime('%Y%m%d')+'00_' + date.strftime('%Y%m%d')+'23.nc'   \n",
    "    ds_url = era5_base + fnam\n",
    "    vorf = xr.backends.PydapDataStore.open(ds_url, session=session)\n",
    "    vo = ds.VO.sel(time=date,level=850, latitude=slice(max_lat, min_lat), longitude= slice(min_lon, max_lon) )*1.e5\n",
    "    cf = vo.plot.contourf(ax=ax,\n",
    "                          transform=projection,\n",
    "                          levels=np.arange(-20, 20, 2),\n",
    "                          cmap='bwr',extend='both',\n",
    "                          add_colorbar=False)\n",
    "\n",
    "    \n",
    "    \n",
    "    plt.title(date, y=1.2)\n",
    "    "
   ]
  },
  {
   "cell_type": "code",
   "execution_count": null,
   "id": "590bcb7d-f845-45a6-bb12-edf5f1ae4b3f",
   "metadata": {},
   "outputs": [],
   "source": [
    "fnam = date.strftime('%Y%m') + '/e5.oper.an.pl.128_' + varId + '_' + varNam + \\\n",
    "'.ll025sc.' + date.strftime('%Y%m%d')+'00_' + date.strftime('%Y%m%d')+'23.nc'   \n",
    "ds_url = era5_base + fnam\n",
    "\n",
    "vorf = xr.backends.PydapDataStore.open(ds_url, session=session)\n",
    "ds = xr.open_dataset(vorf)\n",
    "vo = ds.VO.sel(time=date,level=850, latitude=slice(max_lat, min_lat), longitude= slice(min_lon, max_lon) )*1.e5"
   ]
  },
  {
   "cell_type": "code",
   "execution_count": null,
   "id": "5d5b48ed-23f3-41a2-8397-4d96d3779982",
   "metadata": {},
   "outputs": [],
   "source": []
  },
  {
   "cell_type": "code",
   "execution_count": null,
   "id": "101cca20-5f55-48d0-b281-9a778c4a3489",
   "metadata": {},
   "outputs": [],
   "source": [
    "\n",
    "# set the min and max values to shade in the IR brightness temperature field\n",
    "Cmin=  -10\n",
    "Cmax = 10\n",
    "Cint = 1\n",
    "\n",
    "print(vo.min().values, vo.max().values)"
   ]
  },
  {
   "cell_type": "code",
   "execution_count": null,
   "id": "15ca2b85-b4dd-4e0f-95cd-f9bc1c47affe",
   "metadata": {},
   "outputs": [],
   "source": [
    "plt.rcParams[\"animation.html\"] = \"jshtml\"\n",
    "plt.rcParams['figure.dpi'] = 150  \n",
    "plt.ioff()\n",
    "\n",
    "\n",
    "# Generate figure and set its size (width, height) in inches\n",
    "fig = plt.figure(figsize=(10,8))\n",
    "\n",
    "# Generate axes, using Cartopy, drawing coastlines, and adding features\n",
    "projection = ccrs.PlateCarree()\n",
    "ax = plt.axes(projection=projection)\n",
    "ax.coastlines(linewidths=0.5)\n",
    "ax.add_feature(cfeature.LAND, facecolor='lightgray')\n",
    "\n",
    "cf = vo.plot.contourf(ax=ax,\n",
    "                          transform=projection,\n",
    "                          levels=np.arange(-20, 20, 2),\n",
    "                          cmap='bwr',extend='both',\n",
    "                          add_colorbar=False)\n",
    "# Add colorbar\n",
    "cbar = plt.colorbar(cf,\n",
    "                    shrink=0.8,\n",
    "                    drawedges=True,\n",
    "                    ticks=np.arange(-20,20,4),\n",
    "                    extendrect=True,\n",
    "                    extendfrac='auto', orientation='horizontal')\n",
    "\n",
    "lon1tick=280\n",
    "lon2tick=340\n",
    "\n",
    "gl = ax.gridlines(draw_labels=True)\n",
    "#ax.coastlines('50m', linewidth=0.8,color='gray')\n",
    "gl.top_labels = gl_right_labels = False\n",
    "gl.xformatter = LONGITUDE_FORMATTER\n",
    "gl.yformatter = LATITUDE_FORMATTER\n",
    "\n",
    "\n",
    "\n",
    "#---------------------------------------------------------------------------------------------------\n",
    "animArgs = (date,min_lon,max_lon,min_lat,max_lat,Cmin,Cmax)\n",
    "# runs the animation initiated with the frame from init and progressed with the animate function\n",
    "anim = animation.FuncAnimation(fig,animate,frames=ntimes, interval=200, fargs=animArgs)\n",
    "anim\n",
    "\n",
    "\n"
   ]
  },
  {
   "cell_type": "code",
   "execution_count": null,
   "id": "8447ac2e-817e-4fdd-8f6e-8d7f852fa3c2",
   "metadata": {},
   "outputs": [],
   "source": []
  },
  {
   "cell_type": "code",
   "execution_count": null,
   "id": "5661dcd7-503b-45d2-877b-cc691812f883",
   "metadata": {},
   "outputs": [],
   "source": []
  }
 ],
 "metadata": {
  "kernelspec": {
   "display_name": "Python 3 (ipykernel)",
   "language": "python",
   "name": "python3"
  },
  "language_info": {
   "codemirror_mode": {
    "name": "ipython",
    "version": 3
   },
   "file_extension": ".py",
   "mimetype": "text/x-python",
   "name": "python",
   "nbconvert_exporter": "python",
   "pygments_lexer": "ipython3",
   "version": "3.9.10"
  }
 },
 "nbformat": 4,
 "nbformat_minor": 5
}
