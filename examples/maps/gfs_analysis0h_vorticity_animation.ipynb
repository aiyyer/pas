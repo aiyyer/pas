{
 "cells": [
  {
   "cell_type": "code",
   "execution_count": null,
   "id": "8f8cb73d-fdd9-4e41-ad4f-7a5fc25f806f",
   "metadata": {},
   "outputs": [],
   "source": [
    "from herbie.archive import Herbie\n",
    "from herbie.tools import fast_Herbie, fast_Herbie_download, fast_Herbie_xarray\n",
    "import pandas as pd\n",
    "\n",
    "import numpy as np\n",
    "import xarray as xr\n",
    "import cartopy.crs as ccrs\n",
    "import matplotlib.pyplot as plt\n",
    "import cartopy.feature as cfeature\n",
    "import cmaps\n",
    "\n",
    "import geocat.viz as gv\n",
    "from cartopy.mpl.gridliner import LONGITUDE_FORMATTER, LATITUDE_FORMATTER\n",
    "from cartopy.mpl.ticker import LongitudeFormatter, LatitudeFormatter\n",
    "import matplotlib.animation as animation\n",
    "\n",
    "\n",
    "# convert the animation to javascript for display\n",
    "plt.rcParams[\"animation.html\"] = \"jshtml\"\n",
    "plt.rcParams['animation.embed_limit'] = 2**128\n",
    "import geocat.viz.util as gvutil"
   ]
  },
  {
   "cell_type": "code",
   "execution_count": null,
   "id": "f3c3c34f-ea85-4925-9397-ffd72ab3665d",
   "metadata": {},
   "outputs": [],
   "source": [
    "DATES = pd.date_range('2022-08-30', periods=6, freq='6H')\n",
    "DATES"
   ]
  },
  {
   "cell_type": "code",
   "execution_count": null,
   "id": "b8d8d3b2-2a0d-46da-b4bb-ff9535db8fd5",
   "metadata": {},
   "outputs": [],
   "source": [
    "# Create a list of forecast lead times\n",
    "fxx = [0]\n",
    "#HH = fast_Herbie(DATES=DATES, fxx=fxx, model='gfs',product='pgrb2.0p25',priority='aws')\n",
    "\n",
    "\n",
    "\n",
    "\n",
    "#H = Herbie('2022-9-02 00:00', model='gfs',\n",
    "#           product='pgrb2.0p25',priority='aws', fxx=0)\n",
    "\n",
    "\n",
    "\n",
    "#Hu = fast_Herbie_xarray('2022-9-02 00:00', model='gfs',\n",
    "#           product='pgrb2.0p25',priority='aws', fxx=fxx, searchString='UGRD:850 mb')\n",
    "\n"
   ]
  },
  {
   "cell_type": "code",
   "execution_count": null,
   "id": "2ace8525-dad0-4888-83d3-f243b6accba8",
   "metadata": {},
   "outputs": [],
   "source": [
    "Hu=  fast_Herbie_xarray(DATES=DATES, fxx=fxx, model='gfs',product='pgrb2.0p25',priority='aws',searchString='UGRD:850 mb')"
   ]
  },
  {
   "cell_type": "code",
   "execution_count": null,
   "id": "4acaf685-9c0d-4ae3-b1e0-2122c7c06631",
   "metadata": {},
   "outputs": [],
   "source": [
    "Hv =  fast_Herbie_xarray(DATES=DATES, fxx=fxx, model='gfs',product='pgrb2.0p25',priority='aws',searchString='VGRD:850 mb')"
   ]
  },
  {
   "cell_type": "code",
   "execution_count": null,
   "id": "05e54ed4-c986-4919-97d9-773d64b6e05e",
   "metadata": {},
   "outputs": [],
   "source": [
    "import metpy.calc \n",
    "\n",
    "# Any import of metpy will activate the accessors\n",
    "from metpy.units import units\n",
    "#\n",
    "from metpy.calc import vorticity\n",
    "\n",
    "\n",
    "\n",
    "min_lon = 260.\n",
    "max_lon =  360.\n",
    "delta_lon = 20.\n",
    "min_lat =  0.\n",
    "max_lat =  30.\n",
    "\n",
    "u = Hu.u.sel(latitude=slice(min_lat, max_lat), longitude=slice(min_lon, max_lon))\n",
    "v = Hv.v.sel(latitude=slice(min_lat, max_lat), longitude=slice(min_lon, max_lon)) \n",
    "\n",
    "vor= vorticity(Hu.u,Hv.v).sel(latitude=slice(max_lat, min_lat), longitude=slice(min_lon, max_lon)) \n",
    "vor=vor*1.e5\n"
   ]
  },
  {
   "cell_type": "code",
   "execution_count": null,
   "id": "ba877ae4-77d7-496b-9f57-0babf144e592",
   "metadata": {},
   "outputs": [],
   "source": [
    "#vor\n"
   ]
  },
  {
   "cell_type": "code",
   "execution_count": null,
   "id": "200fbe89-a40d-450c-ae97-6f6f7425d539",
   "metadata": {},
   "outputs": [],
   "source": [
    "\n",
    "# Generate figure and set its size (width, height) in inches\n",
    "fig = plt.figure(figsize=(10,8))\n",
    "\n",
    "# Generate axes, using Cartopy, drawing coastlines, and adding features\n",
    "projection = ccrs.PlateCarree()\n",
    "ax = plt.axes(projection=projection)\n",
    "ax.coastlines(linewidths=0.5)\n",
    "ax.add_feature(cfeature.LAND, facecolor='lightgray')\n",
    "\n",
    "cf = vor[0,:,:].plot.contourf(ax=ax,\n",
    "                          transform=projection,\n",
    "                          levels=np.arange(-20, 20, 2),\n",
    "                          cmap='bwr',extend='both',\n",
    "                          add_colorbar=False)\n",
    "# Add colorbar\n",
    "cbar = plt.colorbar(cf,\n",
    "                    shrink=0.8,\n",
    "                    drawedges=True,\n",
    "                    ticks=np.arange(-20,20,4),\n",
    "                    extendrect=True,\n",
    "                    extendfrac='auto', orientation='horizontal')\n",
    "\n",
    "lon1tick=280\n",
    "lon2tick=340\n",
    "\n",
    "gl = ax.gridlines(draw_labels=True)\n",
    "#ax.coastlines('50m', linewidth=0.8,color='gray')\n",
    "gl.top_labels = gl_right_labels = False\n",
    "gl.xformatter = LONGITUDE_FORMATTER\n",
    "gl.yformatter = LATITUDE_FORMATTER\n",
    "\n",
    "\n",
    "# animate function for matplotlib FuncAnimation\n",
    "def animate(i):\n",
    "    print ( \"now \", i)\n",
    "    projection = ccrs.PlateCarree()\n",
    "    cf = vor[i,:,:].plot.contourf(ax=ax,\n",
    "                          transform=projection,\n",
    "                          levels=np.arange(-20, 20, 2),\n",
    "                          cmap='bwr',extend='both',\n",
    "                          add_colorbar=False)\n",
    "\n",
    "# runs the animation initiated with the frame from init and progressed with the animate function\n",
    "anim = animation.FuncAnimation(fig, animate, frames=6,  interval=200)\n",
    "# Uncomment this line to save the created animation\n",
    "#anim.save('animate_1.gif', writer='pillow', fps=5)\n",
    "\n",
    "anim"
   ]
  },
  {
   "cell_type": "code",
   "execution_count": null,
   "id": "b528fdc7-195f-4644-a7b7-abaafef91208",
   "metadata": {},
   "outputs": [],
   "source": []
  },
  {
   "cell_type": "code",
   "execution_count": null,
   "id": "ed223b4c-4245-47f1-84a0-591127897ad8",
   "metadata": {},
   "outputs": [],
   "source": []
  }
 ],
 "metadata": {
  "kernelspec": {
   "display_name": "Python 3 (ipykernel)",
   "language": "python",
   "name": "python3"
  },
  "language_info": {
   "codemirror_mode": {
    "name": "ipython",
    "version": 3
   },
   "file_extension": ".py",
   "mimetype": "text/x-python",
   "name": "python",
   "nbconvert_exporter": "python",
   "pygments_lexer": "ipython3",
   "version": "3.9.10"
  }
 },
 "nbformat": 4,
 "nbformat_minor": 5
}
